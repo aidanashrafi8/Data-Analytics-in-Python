{
 "cells": [
  {
   "cell_type": "markdown",
   "id": "4a6d3f9f",
   "metadata": {
    "deletable": false,
    "editable": false,
    "nbgrader": {
     "cell_type": "markdown",
     "checksum": "7c044f4b88a1f5dda5bc4d1175fb9682",
     "grade": false,
     "grade_id": "cell-f4c2de450bde2c66",
     "locked": true,
     "schema_version": 3,
     "solution": false,
     "task": false
    }
   },
   "source": [
    "# Final (Fine Dining)"
   ]
  },
  {
   "cell_type": "code",
   "execution_count": 1329,
   "id": "82361ce9",
   "metadata": {
    "deletable": false,
    "editable": false,
    "nbgrader": {
     "cell_type": "code",
     "checksum": "e5c928629ab42b1ad2f4926d16753f32",
     "grade": false,
     "grade_id": "cell-5190dfb73f4cde43",
     "locked": true,
     "schema_version": 3,
     "solution": false,
     "task": false
    }
   },
   "outputs": [],
   "source": [
    "import pandas as pd\n",
    "import numpy as np\n",
    "import datetime"
   ]
  },
  {
   "cell_type": "markdown",
   "id": "794ed3a9",
   "metadata": {
    "deletable": false,
    "editable": false,
    "nbgrader": {
     "cell_type": "markdown",
     "checksum": "7efebff87d48bbcb436b31987a48d0ed",
     "grade": false,
     "grade_id": "cell-0c96a0a56dae76b2",
     "locked": true,
     "schema_version": 3,
     "solution": false,
     "task": false
    }
   },
   "source": [
    "In this final, you will be asked to analyze a data set containing historical reservations for a fine-dining restaurant that is stored in the file \"data/Reservation_Data.csv\".  This restaurant only accepts reservations booked online and hence does not accept walk in customers.   Each row in this data corresponds to a booked reservation.  The columns have the following meaning:\n",
    "- reservation\\_date: The date that the reservation was booked for. In other words, this is the date when the customer will dine.\n",
    "- reservation\\_time: The time that the reservation was booked for.\n",
    "- reservation\\_party\\_size: The size of the party for the corresponding reservation, i.e. the number of diners.\n",
    "- reservation_date_booked: the date on which the reservation was made.\n",
    "- datetime\\_booked: The date and time corresponding to when the reservation was made **(in UTC)**. This column has missing values, which have been entered as \"#N/A\".  **The restaurant is located in a Pacific time zone.**\n",
    "\n",
    "Your goal in this final will be to understand how customers schedule reservations at this restaurant.\n"
   ]
  },
  {
   "cell_type": "markdown",
   "id": "2b483248",
   "metadata": {
    "deletable": false,
    "editable": false,
    "nbgrader": {
     "cell_type": "markdown",
     "checksum": "6ffb1e16dc8fe1dc339755d7bd5860e6",
     "grade": false,
     "grade_id": "cell-ad6f3ed39d34de63",
     "locked": true,
     "schema_version": 3,
     "solution": false,
     "task": false
    }
   },
   "source": [
    "## Problem 1 \n",
    "\n",
    "Your first task is to read in the data and do the following:\n",
    "\n",
    "- delete rows with missing values\n",
    "- convert datetime_booked to a datetime column with Pacific time zone (recall from above that these enteries are naive datetime, i.e., they do not have time zone information; they represent the date and time correspoinding to when the reservation was made in **UTC**)\n",
    "- combine reservation_date and reservation time to create a new column called reservation_datetime that is a datetime column that has a Pacific time zone. (Recall that the restaurant is in Pacific time zone and these entries represent the time the customer will dine at the restaurant.) So the final dataframe you return should have 6 columns in total.\n",
    "- Only keep reservations made at the following 8 time slots: 17:30, 17:45, 18:00, 18:15, 20:45, 21:00, 21:15, 21:30 (**Hint**: You need to use the reservation_datetime column to solve this).\n",
    "\n",
    "Return this modified version of the original data frame."
   ]
  },
  {
   "cell_type": "code",
   "execution_count": 1330,
   "id": "4858b8b7",
   "metadata": {
    "deletable": false,
    "nbgrader": {
     "cell_type": "code",
     "checksum": "e8483c3256c5ea7be8ea3c53a7818ba4",
     "grade": false,
     "grade_id": "cell-de50a62274503972",
     "locked": false,
     "schema_version": 3,
     "solution": true,
     "task": false
    }
   },
   "outputs": [],
   "source": [
    "import pytz\n",
    "def Read_Data():\n",
    "    # Read in the data and drop rows with missing values\n",
    "    df_res = pd.read_csv(\"data/Reservation_Data.csv\", na_values=[\"#N/A\"])\n",
    "    df_res.dropna(inplace=True)\n",
    "    # Convert datetime_booked to Pacific time zone\n",
    "    df_res[\"datetime_booked\"] = pd.to_datetime(df_res[\"datetime_booked\"]).dt.tz_localize('UTC').dt.tz_convert('US/Pacific')\n",
    "    # Combine reservation_date and reservation_time to create a new column called reservation_datetime in Pacific time zone\n",
    "    df_res['reservation_datetime'] = pd.to_datetime(df_res['reservation_date'].str.cat(df_res['reservation_time'], sep=' '), format='%m/%d/%y %H:%M:%S').dt.tz_localize('US/Pacific')\n",
    "    # Filter reservations by valid time slots\n",
    "    time_slots = ['17:30', '17:45', '18:00', '18:15', '20:45', '21:00', '21:15', '21:30']\n",
    "    df_res = df_res[df_res['reservation_datetime'].dt.strftime('%H:%M').isin(time_slots)]\n",
    "    return df_res"
   ]
  },
  {
   "cell_type": "code",
   "execution_count": 1331,
   "id": "d0c4c50f",
   "metadata": {
    "deletable": false,
    "editable": false,
    "nbgrader": {
     "cell_type": "code",
     "checksum": "a3ed36d0b01cbb858792b8a7cbee68e1",
     "grade": true,
     "grade_id": "cell-ed1184986eba770e",
     "locked": true,
     "points": 1,
     "schema_version": 3,
     "solution": false,
     "task": false
    }
   },
   "outputs": [],
   "source": [
    "df_res = Read_Data()\n",
    "assert df_res.shape==(3359,6)"
   ]
  },
  {
   "cell_type": "code",
   "execution_count": 1332,
   "id": "e70ffae5",
   "metadata": {
    "deletable": false,
    "editable": false,
    "nbgrader": {
     "cell_type": "code",
     "checksum": "a3742ebf727932a444e306366d836c05",
     "grade": true,
     "grade_id": "cell-b690b02d80c85a18",
     "locked": true,
     "points": 3,
     "schema_version": 3,
     "solution": false,
     "task": false
    }
   },
   "outputs": [],
   "source": [
    "assert list(df_res.columns) == ['reservation_date', 'reservation_time', 'reservation_party_size',\n",
    "                                'reservation_booked_date', 'datetime_booked', 'reservation_datetime']"
   ]
  },
  {
   "cell_type": "code",
   "execution_count": 1333,
   "id": "c80f09b6",
   "metadata": {
    "deletable": false,
    "editable": false,
    "nbgrader": {
     "cell_type": "code",
     "checksum": "289656f69bc04ceca3ecc42ecf0da70a",
     "grade": true,
     "grade_id": "cell-9bd7dfeed3b4e5db",
     "locked": true,
     "points": 2,
     "schema_version": 3,
     "solution": false,
     "task": false
    }
   },
   "outputs": [],
   "source": [
    "assert np.isclose(df_res.datetime_booked.dt.hour.mean(), 13.55969)"
   ]
  },
  {
   "cell_type": "markdown",
   "id": "7905324b",
   "metadata": {
    "deletable": false,
    "editable": false,
    "nbgrader": {
     "cell_type": "markdown",
     "checksum": "9e29d43026deb96c7b143788a09103d0",
     "grade": false,
     "grade_id": "cell-b38ba35d0e8e87c0",
     "locked": true,
     "schema_version": 3,
     "solution": false,
     "task": false
    }
   },
   "source": [
    "## Problem 2 \n",
    "\n",
    "In this next part, we will write two functions to understand basic patterns in the data.\n",
    "\n",
    "The first function takes as input one of the eight reservation time slots that we are considering as a datetime time and it outputs the day of the week (as a string) with the smallest average party size of all reservation made for the given inputted time slot."
   ]
  },
  {
   "cell_type": "code",
   "execution_count": 1334,
   "id": "1f322bc8",
   "metadata": {
    "deletable": false,
    "nbgrader": {
     "cell_type": "code",
     "checksum": "1dee730c91d0487e0771e20b0be6e125",
     "grade": false,
     "grade_id": "cell-1c7afdd88643f99c",
     "locked": false,
     "schema_version": 3,
     "solution": true,
     "task": false
    }
   },
   "outputs": [],
   "source": [
    "def Get_Avg_Party_Size(res_time):\n",
    "    \n",
    "    smallest_dow = None\n",
    "    df_res = Read_Data()\n",
    "    \n",
    "    # Filter reservations by res_time\n",
    "    df_res = df_res[df_res['reservation_datetime'].dt.strftime('%H:%M') == res_time.strftime('%H:%M')]\n",
    "    \n",
    "    # Group reservations by day of the week and calculate average party size\n",
    "    avg_party_size_by_dow = df_res.groupby(df_res['reservation_datetime'].dt.dayofweek)['reservation_party_size'].mean()\n",
    "    \n",
    "    # Find day with smallest average party size\n",
    "    smallest_avg_party_size = avg_party_size_by_dow.min()\n",
    "    smallest_dow = avg_party_size_by_dow[avg_party_size_by_dow == smallest_avg_party_size].index[0]\n",
    "    weekdays = ['Monday', 'Tuesday', 'Wednesday', 'Thursday', 'Friday', 'Saturday', 'Sunday']\n",
    "    smallest_dow = weekdays[smallest_dow]\n",
    "    \n",
    "    return smallest_dow"
   ]
  },
  {
   "cell_type": "code",
   "execution_count": 1335,
   "id": "c22e9fb5",
   "metadata": {
    "deletable": false,
    "editable": false,
    "nbgrader": {
     "cell_type": "code",
     "checksum": "755fb792936a3782436f1e3a00e9087d",
     "grade": true,
     "grade_id": "cell-95d829601e9e9a0e",
     "locked": true,
     "points": 2,
     "schema_version": 3,
     "solution": false,
     "task": false
    }
   },
   "outputs": [],
   "source": [
    "res_time = datetime.time(hour = 17, minute=30)\n",
    "assert Get_Avg_Party_Size(res_time)==\"Sunday\""
   ]
  },
  {
   "cell_type": "code",
   "execution_count": 1336,
   "id": "22460114",
   "metadata": {
    "deletable": false,
    "editable": false,
    "nbgrader": {
     "cell_type": "code",
     "checksum": "75e34d59efe479764cf8f819a6177f60",
     "grade": true,
     "grade_id": "cell-7b751b4f073317eb",
     "locked": true,
     "points": 2,
     "schema_version": 3,
     "solution": false,
     "task": false
    }
   },
   "outputs": [],
   "source": [
    "res_time = datetime.time(hour = 21, minute=0)\n",
    "assert Get_Avg_Party_Size(res_time)==\"Tuesday\""
   ]
  },
  {
   "cell_type": "markdown",
   "id": "e21493d3",
   "metadata": {
    "deletable": false,
    "editable": false,
    "nbgrader": {
     "cell_type": "markdown",
     "checksum": "500f2e48e2801884a457df089c22f754",
     "grade": false,
     "grade_id": "cell-af6027ab0709bdf1",
     "locked": true,
     "schema_version": 3,
     "solution": false,
     "task": false
    }
   },
   "source": [
    "## Problem 3\n",
    "The second function I would like you to write takes as input a parameter called num_days (you may assume this is an integer), and it returns the fraction of reservations made by parties size 1/2 that are made at most num_days in advance, and then also the same fraction but just for parties of 3/4.\n",
    "\n",
    "**NOTE: The number of days in advance that a reservation is made is (reservation_datetime - datetime_booked).**"
   ]
  },
  {
   "cell_type": "code",
   "execution_count": 1337,
   "id": "c70634a6",
   "metadata": {
    "deletable": false,
    "nbgrader": {
     "cell_type": "code",
     "checksum": "2d552d031daa712d0e4b764bb49675a0",
     "grade": false,
     "grade_id": "cell-ef16e3af77fa5d01",
     "locked": false,
     "schema_version": 3,
     "solution": true,
     "task": false
    }
   },
   "outputs": [],
   "source": [
    "def Booked_in_Advance(num_days):\n",
    "    \n",
    "    df_res = Read_Data()\n",
    "    num_days = datetime.timedelta(days=num_days)\n",
    "    party_one_two = None\n",
    "    party_three_four = None\n",
    "    \n",
    "    # Filter reservations for parties of size 1/2 and calculate fraction made <= num_days in advance\n",
    "    df_res_1_2 = df_res[df_res['reservation_party_size'].isin([1,2])]\n",
    "    total_num_res_1_2 = len(df_res_1_2)\n",
    "    num_res_1_2_within_days = len(df_res_1_2[df_res_1_2['reservation_datetime'] - df_res_1_2['datetime_booked'] <= num_days])\n",
    "    party_one_two = num_res_1_2_within_days / total_num_res_1_2\n",
    "    \n",
    "    # Filter reservations for parties of size 3/4 and calculate fraction made <= num_days in advance\n",
    "    df_res_3_4 = df_res[df_res['reservation_party_size'].isin([3,4])]\n",
    "    total_num_res_3_4 = len(df_res_3_4)\n",
    "    num_res_3_4_within_days = len(df_res_3_4[df_res_3_4['reservation_datetime'] - df_res_3_4['datetime_booked'] <= num_days])\n",
    "    party_three_four = num_res_3_4_within_days / total_num_res_3_4\n",
    "\n",
    "    return party_one_two, party_three_four"
   ]
  },
  {
   "cell_type": "code",
   "execution_count": 1338,
   "id": "c123723e",
   "metadata": {
    "deletable": false,
    "editable": false,
    "nbgrader": {
     "cell_type": "code",
     "checksum": "7f364a426e6eaefbf665509466b9bc95",
     "grade": true,
     "grade_id": "cell-2ed9ccccb6761b3b",
     "locked": true,
     "points": 2,
     "schema_version": 3,
     "solution": false,
     "task": false
    }
   },
   "outputs": [],
   "source": [
    "result = Booked_in_Advance(7)\n",
    "assert np.isclose(result[0],0.27188)"
   ]
  },
  {
   "cell_type": "code",
   "execution_count": 1339,
   "id": "661a9d29",
   "metadata": {
    "deletable": false,
    "editable": false,
    "nbgrader": {
     "cell_type": "code",
     "checksum": "d13caaf307b605ed6678281d9429eeb7",
     "grade": true,
     "grade_id": "cell-3bbadb4224a0b21d",
     "locked": true,
     "points": 2,
     "schema_version": 3,
     "solution": false,
     "task": false
    }
   },
   "outputs": [],
   "source": [
    "result = Booked_in_Advance(100)\n",
    "assert np.isclose(result[1],0.860534)"
   ]
  },
  {
   "cell_type": "markdown",
   "id": "4676d70f",
   "metadata": {
    "deletable": false,
    "editable": false,
    "nbgrader": {
     "cell_type": "markdown",
     "checksum": "a957b55b21ffcf66e0452f3c329e997b",
     "grade": false,
     "grade_id": "cell-0e650a46298a33b9",
     "locked": true,
     "schema_version": 3,
     "solution": false,
     "task": false
    }
   },
   "source": [
    "## Problem 4 \n",
    "\n",
    "Let's assume that there are two service periods:\n",
    "\n",
    "- Service Period 1 consists of time slots 17:30, 17:45, 18:00, 18:15\n",
    "- Service Period 2 consiss of time slots 20:45, 21:00, 21:15, 21:30\n",
    "\n",
    "The purpose of this question is find out how popular a particular dining time is (within its own service period). The way we are going to go about this is to find out the \"rank\" of a dining time amoung all other bookings received on each day. To make the idea clear, consider dining time 17:45. If everyday the first booked reservation is for 17:45 (i.e., it has rank 1), then 17:45 is quite popular. On the other hand, if 17:45 is always the last dining time booked by customers on each day, it means that it is not that popular (perhaps it was booked because all other dining times were already booked by other customers). You are going to implement this idea in the next function.\n",
    "\n",
    "The next function takes as input res_time, which is one of the eight times above as a datetime time.  Given the inputted time, you will exclusively focus this analysis on either Service Period 1 or 2. For example, if the inputted res_time is 17:45, you should only consider reservations made during Service Period 1. For each day, find the first reservation that books at res_time (datetime_booked tells you the order in which reservations were scheduled).  Within the given Service Period of interest, compute how many reservations have already been booked on that day before this reservation was made for res_time.  If $k-1$ reservations have already been made, this means that res_time was the $k$-th reservation that was booked on that day.  We will say the \"rank\" of reservation time res_time on that day was $k$. So, if res_time was the first time booked on a particular day for the relevant Service Period, its rank on that day is 1.  Return the average rank of res_time across all days in which a reservation for res_time was booked.\n",
    "\n",
    "**Notice:** If there are two ranks which have the same booking time, they will have the same rank. For example, in the following table, both the first and second table share Rank 2. \n",
    "\n",
    "| reservation_dat | reservation_time | datetime_booked | rank |\n",
    "|-----------------|------------------|-----------------|------|\n",
    "|     9/9/17      |    18:15:00      |2017-08-15 10:03:00| 1|\n",
    "|     9/9/17      |    18:00:00      |2017-08-15 10:04:00| 2|\n",
    "|     9/9/17      |    17:45:00      |2017-08-15 10:04:00| 2|\n",
    "|     9/9/17      |    17:30:00      |2017-08-15 10:05:00| 3|"
   ]
  },
  {
   "cell_type": "code",
   "execution_count": 1340,
   "id": "1f963c00",
   "metadata": {
    "deletable": false,
    "nbgrader": {
     "cell_type": "code",
     "checksum": "1cc9b49a717f4daf1cb0ecdb6707e019",
     "grade": false,
     "grade_id": "cell-7a577e37a310542b",
     "locked": false,
     "schema_version": 3,
     "solution": true,
     "task": false
    }
   },
   "outputs": [],
   "source": [
    "def Get_Avg_Rank(res_time):\n",
    "    df_res = Read_Data()\n",
    "    avg_Rank = None\n",
    "    #Define service periods for the restaurant\n",
    "    service_period_1 = ['17:30:00', '17:45:00', '18:00:00', '18:15:00']\n",
    "    service_period_2= ['20:45:00', '21:00:00','21:15:00','21:30:00']\n",
    "    #Combine service periods into one list \n",
    "    service_period = service_period_1 + service_period_2\n",
    "    #Format the reservation time to be in the same format as the service periods\n",
    "    res_time = res_time.strftime(\"%H:%M:%S\")\n",
    "    #Filter the data to include only the service period that the reservation time belongs to \n",
    "    for idx in service_period: \n",
    "        if res_time in service_period_1: \n",
    "            df_res=df_res.loc[df_res['reservation_time'].isin(service_period_1)]\n",
    "        elif res_time in service_period_2:\n",
    "            df_res=df_res.loc[df_res['reservation_time'].isin(service_period_2)]           \n",
    "    groups_by_dt_booked = df_res.sort_values(by=[\"datetime_booked\"])\n",
    "    group_dt_booked_rdate=groups_by_dt_booked.groupby('reservation_date')\n",
    "    num_reservations = 0\n",
    "    sum_rank = 0\n",
    "    for date,groups in group_dt_booked_rdate:\n",
    "        #reset the index of the groups\n",
    "        groups = groups.reset_index(drop=True)\n",
    "        #filter groups to include only reservation time that matches input res_time\n",
    "        matching_reservations = groups.loc[groups['reservation_time'] == res_time]\n",
    "        if len(matching_reservations)>0:\n",
    "        # Use the lowest index value as the rank\n",
    "            rank = matching_reservations.index[0]  \n",
    "        # Check if there are any other reservations with the same datetime_booked value\n",
    "            same_dt_booked = groups[groups['datetime_booked'] == matching_reservations.iloc[0]['datetime_booked']]['reservation_time']\n",
    "            if len(same_dt_booked) >= 2:\n",
    "            # Assign the same rank to all reservation times with the same datetime_booked\n",
    "                rank = same_dt_booked.index[0]   \n",
    "            num_reservations += 1\n",
    "            sum_rank += rank + 1\n",
    "    avg_rank = sum_rank/num_reservations\n",
    "    return avg_rank"
   ]
  },
  {
   "cell_type": "code",
   "execution_count": 1341,
   "id": "251a191e",
   "metadata": {
    "deletable": false,
    "editable": false,
    "nbgrader": {
     "cell_type": "code",
     "checksum": "96fb58ae8bcf5ccde017d61f880f6629",
     "grade": true,
     "grade_id": "cell-8a1ecd51dcee91fc",
     "locked": true,
     "points": 2,
     "schema_version": 3,
     "solution": false,
     "task": false
    }
   },
   "outputs": [],
   "source": [
    "res_time = datetime.time(hour = 21, minute=30)\n",
    "assert np.isclose(Get_Avg_Rank(res_time),3.9035)"
   ]
  },
  {
   "cell_type": "code",
   "execution_count": 1342,
   "id": "e45a81a4",
   "metadata": {
    "deletable": false,
    "editable": false,
    "nbgrader": {
     "cell_type": "code",
     "checksum": "cf7479efb072d5034be4908e9410ac3d",
     "grade": true,
     "grade_id": "cell-354219ff23bd91b3",
     "locked": true,
     "points": 2,
     "schema_version": 3,
     "solution": false,
     "task": false
    }
   },
   "outputs": [],
   "source": [
    "res_time = datetime.time(hour = 20, minute=45)\n",
    "assert np.isclose(Get_Avg_Rank(res_time),1.45714)"
   ]
  },
  {
   "cell_type": "code",
   "execution_count": 1343,
   "id": "9fa37fb9",
   "metadata": {
    "deletable": false,
    "editable": false,
    "nbgrader": {
     "cell_type": "code",
     "checksum": "14a40e89b0b04c8b08e0e832b4a160c0",
     "grade": true,
     "grade_id": "cell-7a349f0db96f4085",
     "locked": true,
     "points": 2,
     "schema_version": 3,
     "solution": false,
     "task": false
    },
    "scrolled": true
   },
   "outputs": [],
   "source": [
    "res_time = datetime.time(hour = 17, minute=30)\n",
    "assert np.isclose(Get_Avg_Rank(res_time),3.17690)"
   ]
  },
  {
   "cell_type": "code",
   "execution_count": 1344,
   "id": "ad6c29fa",
   "metadata": {
    "deletable": false,
    "editable": false,
    "nbgrader": {
     "cell_type": "code",
     "checksum": "6c2d6be1f06b126916bc7a001541d23e",
     "grade": true,
     "grade_id": "cell-0daa098ad0e2c80f",
     "locked": true,
     "points": 2,
     "schema_version": 3,
     "solution": false,
     "task": false
    }
   },
   "outputs": [],
   "source": [
    "res_time = datetime.time(hour = 17, minute=45)\n",
    "assert np.isclose(Get_Avg_Rank(res_time),2.77316)"
   ]
  }
 ],
 "metadata": {
  "kernelspec": {
   "display_name": "Python 3 (ipykernel)",
   "language": "python",
   "name": "python3"
  },
  "language_info": {
   "codemirror_mode": {
    "name": "ipython",
    "version": 3
   },
   "file_extension": ".py",
   "mimetype": "text/x-python",
   "name": "python",
   "nbconvert_exporter": "python",
   "pygments_lexer": "ipython3",
   "version": "3.9.13"
  },
  "toc": {
   "base_numbering": 1,
   "nav_menu": {},
   "number_sections": true,
   "sideBar": true,
   "skip_h1_title": false,
   "title_cell": "Table of Contents",
   "title_sidebar": "Contents",
   "toc_cell": false,
   "toc_position": {},
   "toc_section_display": true,
   "toc_window_display": false
  },
  "varInspector": {
   "cols": {
    "lenName": 16,
    "lenType": 16,
    "lenVar": 40
   },
   "kernels_config": {
    "python": {
     "delete_cmd_postfix": "",
     "delete_cmd_prefix": "del ",
     "library": "var_list.py",
     "varRefreshCmd": "print(var_dic_list())"
    },
    "r": {
     "delete_cmd_postfix": ") ",
     "delete_cmd_prefix": "rm(",
     "library": "var_list.r",
     "varRefreshCmd": "cat(var_dic_list()) "
    }
   },
   "types_to_exclude": [
    "module",
    "function",
    "builtin_function_or_method",
    "instance",
    "_Feature"
   ],
   "window_display": false
  }
 },
 "nbformat": 4,
 "nbformat_minor": 5
}
