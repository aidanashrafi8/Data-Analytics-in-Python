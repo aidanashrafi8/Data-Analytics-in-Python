{
 "cells": [
  {
   "cell_type": "markdown",
   "metadata": {
    "deletable": false,
    "editable": false,
    "nbgrader": {
     "cell_type": "markdown",
     "checksum": "d9a6d01557f09fe54750311dee3f0216",
     "grade": false,
     "grade_id": "cell-d8e08bddecac0711",
     "locked": true,
     "schema_version": 3,
     "solution": false,
     "task": false
    }
   },
   "source": [
    "# Midterm: Recommender System for Movies\n",
    "\n",
    "**(Note: This midterm assignment will have hidden test cases)**\n",
    "\n",
    "In this project, you will implement a recommender system for your classmates, professor and TAs based on the movie survey we have conducted. The movie preference file is at **./data/preference.csv**\n",
    "\n",
    "## Recommender System\n",
    "\n",
    "The objective of a Recommender System is to recommend relevant items to users, based on their preference. Recommender systems are prevalent in the digital space. For example, when you go shopping on Amazon, you notice that Amazon is recommending products on the front page before you even type anything in the search box. Similarly, when you go on YouTube, the top bar of Youtube is typically \"videos recommended to you.\" All these features are based on recommmender systems. \n",
    "\n",
    "What item to recommend to which user is arguably the most important business decision in many digital platforms. For instance, YouTube cannot control the videos its users upload to it. It cannot control which videos users like to watch either. Moreoveor, since watching videos is free, YouTube cannot control the behavior of its users by changing the price of its items. It does not have inventory either since each video can be viewed as many times as possible. In this case, what could YouTube control? Or in other words, what differentiates a good video streaming service from a bad one? The answer is its recommender system. \n",
    "\n",
    "## Types of Recommender Systems\n",
    "\n",
    "There are **three** types of recommender systems. \n",
    "\n",
    "### Popularity-based Recommendation \n",
    "\n",
    "The most obvious system is popularity-based recommendation. In this case, we recommend to a user the most popular items that the user has not previously consumed. In the movie setting, we will recommend the movie that most users have watched and liked. In other words, this system utilizes the \"wisdom of the crowd.\" It usually provides good recommendations for most people. Since it is easy to implement, the popularity-based recommendation system is used as a baseline. *Note: this system is not personalized. If two consumers have not watched Movie A, and Movie A is the most popular one, both of them will be recommended Movie A, no matter how different these two consumers are.*\n",
    "\n",
    "### Content-based Recommendation \n",
    "\n",
    "This recommender system leverages the data on a customer's historical actions. It first uses available data to identify a set of features that describes an item (for example, for movies, we can use the movie's director, main actor, main actress, genre, etc. to describe the movie). When a user comes in, the system will recommend the movie that is closest, in terms of these features, to the movies that the user has watched and liked. For instance, if a user likes action movies from Nolan the most, this system will recommend another action movie from Nolan that this user has not watched. *Note: we will not implement this system in this project since it requires knowledge about supervised learning. We may come back to this topic at the end of this semester.*\n",
    "\n",
    "### Collaborative Filtering Recommendation\n",
    "\n",
    "The last type of recommender system is called collaborative filtering. This approach uses the memory from previous users' interactions to compute users' similarities based on items they've interacted (user-based approach) or compute items' similarities based on the users that have interacted with them (item-based approach).\n",
    "\n",
    "A typical example of this approach is User Neighbourhood-based CF, in which the top-N similar users (usually computed using Pearson correlation) for a user are selected first. The items that are liked by these users are then used to identify the best candidate to recommend to the current user. "
   ]
  },
  {
   "cell_type": "markdown",
   "metadata": {
    "deletable": false,
    "editable": false,
    "nbgrader": {
     "cell_type": "markdown",
     "checksum": "1a885f8f2bec15747dc072c69bf90af9",
     "grade": false,
     "grade_id": "cell-e453c9bbba94f88c",
     "locked": true,
     "schema_version": 3,
     "solution": false,
     "task": false
    }
   },
   "source": [
    "# 0. Read-in the preference file\n",
    "\n",
    "The first exercise is to read in the movie preference csv file (you need to use relative path). \n",
    "\n",
    "You must return two things:\n",
    "\n",
    "1. A dictionary where the key is username and the value is a vector of (-1, 0, 1) that indicates the user's preference across movies (in the order of the csv file). Note that 1 encodes a \"like\" and -1 encodes a \"dislike\". A zero means that the user has not watched that movie yet. \n",
    "\n",
    "2. A list of strings that contains movie names. (The order of movie names should be the same as the order in the original csv file)\n",
    "\n",
    "\n",
    "**Note 1:** Your result should exactly match the results from the assert statements. This means you should pay attention to extra space, newline, etc.\n",
    "\n",
    "**Note 2:** If there are two records with the same name, use the first record from the person.\n"
   ]
  },
  {
   "cell_type": "code",
   "execution_count": 1584,
   "metadata": {
    "deletable": false,
    "nbgrader": {
     "cell_type": "code",
     "checksum": "a10ce7556c5d921efa4d92b93fd343d7",
     "grade": false,
     "grade_id": "cell-8af4b18c4d224891",
     "locked": false,
     "schema_version": 3,
     "solution": true,
     "task": false
    }
   },
   "outputs": [],
   "source": [
    "def read_in_movie_preference():\n",
    "    \"\"\"Read the movie data and return a preference dictionary.\"\"\"\n",
    "    preference = {}\n",
    "    movies = []\n",
    "\n",
    "    # Open the file\n",
    "    file_location = \"./data/preference.csv\"\n",
    "    file_reader = open(file_location, \"r\")\n",
    "\n",
    "    # Extract the movie names\n",
    "    first_line = file_reader.readline().strip().split(\",\")\n",
    "    #the first line has two phrases we are not using, so we start at 2\n",
    "    for index in range(2, len(first_line)):\n",
    "        #append them to a list\n",
    "        movies.append(first_line[index].strip())\n",
    "\n",
    "    # Extract names and ratings \n",
    "    for line in file_reader:\n",
    "        clean_line = line.strip().split(\",\")\n",
    "        person = clean_line[1]\n",
    "        rating = clean_line[2:]\n",
    "\n",
    "        # Create a list of movie ratings for this person\n",
    "        rating_list = []\n",
    "        for i in range(len(movies)):\n",
    "            rating_list.append(int(rating[i]))\n",
    "\n",
    "        # Add this person's rating list to their preference dictionary\n",
    "        if person in preference: \n",
    "            continue \n",
    "            \n",
    "        if person not in preference:\n",
    "            preference[person] = rating_list\n",
    "            \n",
    "    return [movies, preference]"
   ]
  },
  {
   "cell_type": "code",
   "execution_count": 1585,
   "metadata": {
    "deletable": false,
    "editable": false,
    "nbgrader": {
     "cell_type": "code",
     "checksum": "ec85922d6b3f6d92362e7707c770fee2",
     "grade": true,
     "grade_id": "cell-8a9411435991bbbb",
     "locked": true,
     "points": 5,
     "schema_version": 3,
     "solution": false,
     "task": false
    }
   },
   "outputs": [],
   "source": [
    "[movies, preference] = read_in_movie_preference()\n",
    "assert len(movies) == 20"
   ]
  },
  {
   "cell_type": "code",
   "execution_count": 1586,
   "metadata": {
    "deletable": false,
    "editable": false,
    "nbgrader": {
     "cell_type": "code",
     "checksum": "e39c289f3161c7aae601c7764db2d0a6",
     "grade": true,
     "grade_id": "cell-4270ef6e38e2b56e",
     "locked": true,
     "points": 5,
     "schema_version": 3,
     "solution": false,
     "task": false
    }
   },
   "outputs": [],
   "source": [
    "[movies, preference] = read_in_movie_preference()\n",
    "assert movies == ['The Shawshank Redemption', 'The Godfather',\n",
    "                       'The Dark Knight', 'Star Wars: The Force Awakens',\n",
    "                       'The Lord of the Rings: The Return of the King',\n",
    "                       'Inception', 'The Matrix', 'Avengers: Infinity War',\n",
    "                       'Interstellar', 'Spirited Away', 'Coco', 'The Dark Knight Rises',\n",
    "                       'Braveheart', 'The Wolf of Wall Street', 'Gone Girl', 'La La Land',\n",
    "                       'Shutter Island', 'Ex Machina', 'The Martian', 'Kingsman: The Secret Service']"
   ]
  },
  {
   "cell_type": "code",
   "execution_count": 1587,
   "metadata": {},
   "outputs": [],
   "source": [
    "[movies, preference]=read_in_movie_preference()\n",
    "assert preference[\"Elaine Jiang\"]==[1,0,0,0,0,0,0,0,0,0,1,1,0,0,0,0,0,0,0,0]\n",
    "assert preference[\"Songqi Fan\"]==[1,0,1,1,1,0,0,1,1,0,1,1,0,1,0,1,0,0,0,0]"
   ]
  },
  {
   "cell_type": "code",
   "execution_count": 1588,
   "metadata": {
    "deletable": false,
    "editable": false,
    "nbgrader": {
     "cell_type": "code",
     "checksum": "3d541a85fbcf748295eec7026b21702f",
     "grade": true,
     "grade_id": "cell-ad85dfc6be3895df",
     "locked": true,
     "points": 10,
     "schema_version": 3,
     "solution": false,
     "task": false
    }
   },
   "outputs": [],
   "source": [
    "[movies, preference] = read_in_movie_preference()\n",
    "assert preference[\"Jacob Scheinman\"] == [1, 1, 1, 1, 1, 1, 1, 1, -1, 0, 1, 1, 0, 1, 0, 0, 0, 0, 1, 1]\n",
    "assert preference[\"Ziqing Ouyang\"] == [0, 0, 0, 0, 0, 1, 1, 1, 0, 0, 0, 0, 0, 0, 0, 1, 0, 0, 0, 1]"
   ]
  },
  {
   "cell_type": "code",
   "execution_count": 1589,
   "metadata": {},
   "outputs": [],
   "source": [
    "[movies, preference] = read_in_movie_preference()\n",
    "assert preference[\"Spencer\"]==[0,1,1,1,0,0,0,1,0,0,0,1,0,1,0,0,0,0,0,0]"
   ]
  },
  {
   "cell_type": "markdown",
   "metadata": {
    "deletable": false,
    "editable": false,
    "nbgrader": {
     "cell_type": "markdown",
     "checksum": "2f7813f4d75a4984b3b491f50537ed13",
     "grade": false,
     "grade_id": "cell-299b7e5c55990117",
     "locked": true,
     "schema_version": 3,
     "solution": false,
     "task": false
    }
   },
   "source": [
    "# 1. Popularity-based Ranking\n",
    "## 1.1 Compute the ranking of most popular movies\n",
    "\n",
    "Your next task is to use the data stored in preference variable and compute the popularity scores of the movies. To compute a movie's popularity score, you should first compute the number of times people have liked movies in the entire dataset across all movies (i.e., total likes). You should then compute the number of times people have disliked movies in the entire dataset across all movies (i.e., total dislikes).\n",
    "\n",
    "Let's assume that people have liked movies **A** times in the entire dataset and disliked movies **B** times in the entire dataset. The popularity score of a movie is then defined as **Num_of_People_Like_the_Movie - A / B * Num_of_People_Dislike_the_Movie**\n",
    "\n",
    "(We use A/B to normalize the weights of likes and dislikes because if one type of reaction is rare, it derseves more weights. For example, if a typical movie gets on average 100 likes and no dislike, a dislike conveys a much stronger message on a movie's quality than a like).\n",
    "\n",
    "\n",
    "Your function should return:\n",
    "1. A dictionary where the keys are movie names and the values are correpsonding movie popularity score.\n",
    "2. A list of movie names sorted descendingly by their popularity. For example, if 'The Shawshank Redemption' is the second most popular movie, the second element in the list should be 'The Shawshank Redemption'.\n",
    "3. **A** and **B** as defined above.\n",
    "\n",
    "**Note: You may want to use prior functions to help you read data inside this function**"
   ]
  },
  {
   "cell_type": "code",
   "execution_count": 1590,
   "metadata": {
    "deletable": false,
    "nbgrader": {
     "cell_type": "code",
     "checksum": "5171bc35bcad9d233c9b8ffb276c4e08",
     "grade": false,
     "grade_id": "cell-9138edff14213fee",
     "locked": false,
     "schema_version": 3,
     "solution": true,
     "task": false
    }
   },
   "outputs": [],
   "source": [
    "def movies_popularity_ranking():\n",
    "    movie_popularity = {}\n",
    "    movie_popularity_rank = []\n",
    "    total_likes = 0\n",
    "    total_dislikes = 0\n",
    "    \n",
    "    # Grab previous function \n",
    "    movies, preference = read_in_movie_preference()    \n",
    "    \n",
    "    # Compute A and B \n",
    "    for ratings in preference.values():\n",
    "        for rating in ratings:\n",
    "            if rating == 0:\n",
    "                #stay the same if 0\n",
    "                total_likes += 0\n",
    "                total_dislikes +=0\n",
    "            elif rating == 1: \n",
    "                #increase if 1\n",
    "                total_likes+=1\n",
    "            else:\n",
    "                #decrease if -1, only possible options are -1,0,1   \n",
    "                total_dislikes += 1        \n",
    "    \n",
    "    # Computer popularity factor, A/B \n",
    "    popularity_factor= total_likes / total_dislikes if total_dislikes != 0 else 1\n",
    "    # Compute popularity scores for each movie\n",
    "    for index, movie in enumerate(movies):\n",
    "        num_likes = 0\n",
    "        num_dislikes = 0\n",
    "        for ratings in preference.values():\n",
    "            if ratings[index]== 1:\n",
    "                num_likes += 1\n",
    "            elif ratings[index] == -1:\n",
    "                num_dislikes += 1             \n",
    "        popularity_score = num_likes - popularity_factor * num_dislikes\n",
    "        movie_popularity[movie] = popularity_score    \n",
    "        \n",
    "    # Create a list of movie names sorted by popularity\n",
    "    for movie in sorted(movie_popularity, key=movie_popularity.get, reverse=True):\n",
    "        movie_popularity_rank.append(movie)   \n",
    "        \n",
    "    return movie_popularity, movie_popularity_rank, total_likes, total_dislikes"
   ]
  },
  {
   "cell_type": "code",
   "execution_count": 1591,
   "metadata": {
    "deletable": false,
    "editable": false,
    "nbgrader": {
     "cell_type": "code",
     "checksum": "757b3659527ba89ab6afbdc56dc1e415",
     "grade": true,
     "grade_id": "cell-6afc3fc35b9a8e00",
     "locked": true,
     "points": 5,
     "schema_version": 3,
     "solution": false,
     "task": false
    }
   },
   "outputs": [],
   "source": [
    "movie_popularity, movie_popularity_rank, total_likes, total_dislikes = movies_popularity_ranking()\n",
    "assert total_likes == 1300\n",
    "assert total_dislikes == 236"
   ]
  },
  {
   "cell_type": "code",
   "execution_count": 1592,
   "metadata": {
    "deletable": false,
    "editable": false,
    "nbgrader": {
     "cell_type": "code",
     "checksum": "50d04077e107029ccf83385f1828c12e",
     "grade": true,
     "grade_id": "cell-2db8414a3fc1538f",
     "locked": true,
     "points": 5,
     "schema_version": 3,
     "solution": false,
     "task": false
    }
   },
   "outputs": [],
   "source": [
    "movie_popularity, movie_popularity_rank, total_likes, total_dislikes = movies_popularity_ranking()\n",
    "assert round(movie_popularity[\"The Shawshank Redemption\"], 2) == 66.98\n",
    "assert round(movie_popularity[\"Avengers: Infinity War\"], 2) == 14.86"
   ]
  },
  {
   "cell_type": "code",
   "execution_count": 1593,
   "metadata": {
    "deletable": false,
    "editable": false,
    "nbgrader": {
     "cell_type": "code",
     "checksum": "6fecaede95bd0ba308db4033641e97f4",
     "grade": true,
     "grade_id": "cell-91ba1ec4d45d340c",
     "locked": true,
     "points": 5,
     "schema_version": 3,
     "solution": false,
     "task": false
    }
   },
   "outputs": [],
   "source": [
    "movie_popularity, movie_popularity_rank, total_likes, total_dislikes = movies_popularity_ranking()\n",
    "assert movie_popularity_rank == ['The Shawshank Redemption',\n",
    " 'Inception',\n",
    " 'Kingsman: The Secret Service',\n",
    " 'The Wolf of Wall Street',\n",
    " 'The Matrix',\n",
    " 'Coco',\n",
    " 'Avengers: Infinity War',\n",
    " 'The Dark Knight Rises',\n",
    " 'Interstellar',\n",
    " 'The Dark Knight',\n",
    " 'The Martian',\n",
    " 'Spirited Away',\n",
    " 'The Godfather',\n",
    " 'Braveheart',\n",
    " 'La La Land',\n",
    " 'Shutter Island',\n",
    " 'Gone Girl',\n",
    " 'The Lord of the Rings: The Return of the King',\n",
    " 'Ex Machina',\n",
    " 'Star Wars: The Force Awakens']"
   ]
  },
  {
   "cell_type": "markdown",
   "metadata": {
    "deletable": false,
    "editable": false,
    "nbgrader": {
     "cell_type": "markdown",
     "checksum": "1678a122e64fe7bfed01351ec5fd87a3",
     "grade": false,
     "grade_id": "cell-85867140429367d3",
     "locked": true,
     "schema_version": 3,
     "solution": false,
     "task": false
    }
   },
   "source": [
    "## 1.2 Recommendation\n",
    "\n",
    "You now implement a polularity-based recommendation function. This function takes in a user's name. It returns a string representing the name of a movie that satisfies the following three conditions:\n",
    "\n",
    "1. The user has not watched this movie.\n",
    "2. This movie has the best popularity score (among those that are not watched by the user).\n",
    "3. This movie has higher popularity score than the average of the popularity scores of the movies that this user has watched (the average is computed over all movies wateched by the user, regardless of whether they were liked by the user or not). \n",
    "\n",
    "If the user name does not exit, this function should return \"Invalid user.\"\n",
    "\n",
    "If the user has watched all movies, this function should return \"Unfortunately, no new movies for you.\"\n",
    "\n",
    "If the unwatched movies all have lower popularity scores than the average score of the movies watched by this user, this function should return \"Unfortunately, no new movies for you.\"\n",
    "\n",
    "**Note: Again, you may want to use prior functions to help you read data and rank movies inside this function**"
   ]
  },
  {
   "cell_type": "code",
   "execution_count": 1594,
   "metadata": {
    "deletable": false,
    "nbgrader": {
     "cell_type": "code",
     "checksum": "28c8b6a752e7eace9b4de5431d58909d",
     "grade": false,
     "grade_id": "cell-9fba37ed3d586f54",
     "locked": false,
     "schema_version": 3,
     "solution": true,
     "task": false
    }
   },
   "outputs": [],
   "source": [
    "def Recommendation(name):\n",
    "    recommended_movie = \"\"\n",
    "\n",
    "    #grab two previous functions\n",
    "    movie_popularity, movie_popularity_rank, total_likes, total_dislikes = movies_popularity_ranking()\n",
    "    movies, preference = read_in_movie_preference()\n",
    "    #Check if user exists\n",
    "    if name not in preference:\n",
    "        return \"Invalid user.\"    \n",
    "    #create two loops to find the watched and unwatched movies \n",
    "    liked_watched_movies = [movies[i] for i in range(len(movies)) if preference[name][i] ==1]\n",
    "    disliked_watched_movies = [movies[i] for i in range(len(movies)) if preference[name][i]==-1]\n",
    "    watched_movies = liked_watched_movies + disliked_watched_movies\n",
    "    unwatched_movies = [movie for movie in movies if movie not in watched_movies]\n",
    "        \n",
    "    \n",
    "    average_watched_score = 0\n",
    "    if watched_movies: \n",
    "        average_watched_score = sum(movie_popularity[movie] for movie in watched_movies if movie in movie_popularity) / len(watched_movies) \n",
    "\n",
    "    #find the movie with the highest popularity score among unwatched movies  \n",
    "    highest_popularity_score = -float(\"inf\")\n",
    "\n",
    "    for movie in unwatched_movies: \n",
    "        popularity = movie_popularity[movie]\n",
    "        if popularity > highest_popularity_score:\n",
    "            if popularity > average_watched_score:\n",
    "                highest_popularity_score = popularity\n",
    "                recommended_movie = movie\n",
    "    \n",
    "    if recommended_movie==\"\":\n",
    "        return \"Unfortunately, no new movies for you.\"\n",
    "  \n",
    "    return recommended_movie"
   ]
  },
  {
   "cell_type": "code",
   "execution_count": 1595,
   "metadata": {},
   "outputs": [],
   "source": [
    "assert Recommendation(\"Yuchen\") == \"Unfortunately, no new movies for you.\""
   ]
  },
  {
   "cell_type": "code",
   "execution_count": 1596,
   "metadata": {
    "deletable": false,
    "editable": false,
    "nbgrader": {
     "cell_type": "code",
     "checksum": "f15951dfed68a65aed37a8cb071f16de",
     "grade": true,
     "grade_id": "cell-2d6bc0519eb8b6d9",
     "locked": true,
     "points": 5,
     "schema_version": 3,
     "solution": false,
     "task": false
    }
   },
   "outputs": [],
   "source": [
    "assert Recommendation(\"Jiaxu Rong\") == 'Inception'\n",
    "assert Recommendation(\"Nobody\") == 'The Shawshank Redemption'"
   ]
  },
  {
   "cell_type": "code",
   "execution_count": 1597,
   "metadata": {
    "deletable": false,
    "editable": false,
    "nbgrader": {
     "cell_type": "code",
     "checksum": "98d9f98b72d3b61473a627dab095640f",
     "grade": true,
     "grade_id": "cell-2257d546feddcb24",
     "locked": true,
     "points": 5,
     "schema_version": 3,
     "solution": false,
     "task": false
    }
   },
   "outputs": [],
   "source": [
    "assert Recommendation(\"Dennis Zhang\") == 'Kingsman: The Secret Service'"
   ]
  },
  {
   "cell_type": "code",
   "execution_count": 1598,
   "metadata": {
    "deletable": false,
    "editable": false,
    "nbgrader": {
     "cell_type": "code",
     "checksum": "4102a46e816eb21005a95c0df8f635b5",
     "grade": true,
     "grade_id": "cell-dc2fe03d3dd18c54",
     "locked": true,
     "points": 5,
     "schema_version": 3,
     "solution": false,
     "task": false
    }
   },
   "outputs": [],
   "source": [
    "assert Recommendation(\"Test Student 2\") == 'Invalid user.'"
   ]
  },
  {
   "cell_type": "markdown",
   "metadata": {
    "deletable": false,
    "editable": false,
    "nbgrader": {
     "cell_type": "markdown",
     "checksum": "82064eeb164200c9779394f8404f3f92",
     "grade": false,
     "grade_id": "cell-a8a9a796acef76cd",
     "locked": true,
     "schema_version": 3,
     "solution": false,
     "task": false
    }
   },
   "source": [
    "# 2.1 Cosine Similarity\n",
    "Let us now use collaborative filtering to find a good recommendation.\n",
    "\n",
    "In order to do so, we need to get the cosine similarity beween movies and users. Again, we can use the preference file we used in Section 0. The file represents each person by a preference vector that consists of (0, 1, -1). Cosine similarity in our case is the dot product of the two preference vectors divided by the product of the magnitude of the two preference vectors. In other words, if person A has preference vector A, and person B has preference vector B, their cosine similarity is equal to \n",
    "\n",
    "$$ \\frac{A \\cdot B}{||A||||B||} = \\frac{\\sum_i^n A_iB_i}{\\sqrt{\\sum_i^nA_i^2}\\sqrt{\\sum_i^nB_i^2}}$$\n",
    "\n",
    "If a person has not watched any movies, then the cosine similarity between this person and any other person is defined as 0. For more information on cosine simialrity, you can read this [wiki page](https://en.wikipedia.org/wiki/Cosine_similarity)\n",
    "\n",
    "As an example, let the following two vectors represent Naveed's and Jake's preference over 3 movies.\n",
    "\n",
    "         Inception  Coco     The Dark Knight\n",
    "    Jake     1         -1        0\n",
    "\n",
    "    Naveed  -1          0        1\n",
    "\n",
    "In this case, Naveed and Jake's cosine similarity is equal to\n",
    "\n",
    "$$ \\frac{1*(-1)+(-1)*0+0*(-1)}{\\sqrt{1+(-1)^2}*\\sqrt{(-1)^2+1}} = \\frac{-1}{2} = -0.5$$\n",
    "\n",
    "**Your task** is to write a similarity function that takes in two names and returns the Cosine similarity between these two users. If one or both names do not exist in the database, return 0. \n",
    "\n"
   ]
  },
  {
   "cell_type": "code",
   "execution_count": 1599,
   "metadata": {
    "deletable": false,
    "nbgrader": {
     "cell_type": "code",
     "checksum": "fce71273b5cd4e4a18310ea34749b1aa",
     "grade": false,
     "grade_id": "cell-c20e2996ffb39709",
     "locked": false,
     "schema_version": 3,
     "solution": true,
     "task": false
    }
   },
   "outputs": [],
   "source": [
    "import math \n",
    "def Similarity(name_1, name_2):\n",
    "    \"\"\"Given two names and preference, get the similarity \n",
    "    between two people\"\"\"\n",
    "    cosine = 0\n",
    "    \n",
    "    # grab previous function to get preference vectors for users\n",
    "    movies, preference = read_in_movie_preference()\n",
    "    \n",
    "    # if one or both names do not exist, return 0 \n",
    "    if name_1 not in preference:\n",
    "        return 0\n",
    "    if name_2 not in preference: \n",
    "        return 0 \n",
    "    \n",
    "    #match person to their preference     \n",
    "    preference_1 = preference[name_1]\n",
    "    preference_2 = preference[name_2]\n",
    "    \n",
    "    # Calculate the cosine similarity\n",
    "    \n",
    "    dot_product = sum([preference_1[index] * preference_2[index] for index in range(len(movies))])\n",
    "    magnitude_1 = math.sqrt(sum([preference_1[index]**2 for index in range(len(movies))]))\n",
    "    magnitude_2 = math.sqrt(sum([preference_2[index]**2 for index in range(len(movies))]))\n",
    "    \n",
    "    # if either person has not watched any movies \n",
    "    if magnitude_1 == 0 or magnitude_2 == 0:\n",
    "        return cosine\n",
    "    # if not, find cosine similarity using formula \n",
    "    else:\n",
    "        cosine_similarity = dot_product / (magnitude_1 * magnitude_2)\n",
    "        \n",
    "        return cosine_similarity "
   ]
  },
  {
   "cell_type": "code",
   "execution_count": 1600,
   "metadata": {
    "deletable": false,
    "editable": false,
    "nbgrader": {
     "cell_type": "code",
     "checksum": "5f4c9b59fbc14bf24a560fb14f9c3cd5",
     "grade": true,
     "grade_id": "cell-d9874bd048beaec2",
     "locked": true,
     "points": 10,
     "schema_version": 3,
     "solution": false,
     "task": false
    }
   },
   "outputs": [],
   "source": [
    "assert round(Similarity(\"Test Student\", \"Nobody\"), 2) == 0.17\n",
    "assert round(Similarity(\"Test Student\", \"DJZ2\"), 2) == -0.27"
   ]
  },
  {
   "cell_type": "code",
   "execution_count": 1601,
   "metadata": {
    "deletable": false,
    "editable": false,
    "nbgrader": {
     "cell_type": "code",
     "checksum": "82efb31c00e848e40125b198c6514373",
     "grade": true,
     "grade_id": "cell-993d84519316a828",
     "locked": true,
     "points": 5,
     "schema_version": 3,
     "solution": false,
     "task": false
    }
   },
   "outputs": [],
   "source": [
    "assert round(Similarity(\"Test Student\", \"Test Student 2\"), 2) == 0"
   ]
  },
  {
   "cell_type": "markdown",
   "metadata": {
    "deletable": false,
    "editable": false,
    "nbgrader": {
     "cell_type": "markdown",
     "checksum": "7fe693e0ecd22147007e1b34f1438a1d",
     "grade": false,
     "grade_id": "cell-8568c386c45fb7c7",
     "locked": true,
     "schema_version": 3,
     "solution": false,
     "task": false
    }
   },
   "source": [
    "## 2.2 Movie Soulmate\n",
    "\n",
    "Your next task is to find the movie soulmate of a person. In order to find a person's movie soulmate, you will compute the cosine similarity between this person and every other person in the dataset. You will then return the person who has the highest cosine similarity with the focal person. If two people have the same cosine similarity with the focal person, you can tie break by the length of names (the person with shorter name will be the soulmate). If the focal person does not exist in the database, return an empty string as the soulmate name.\n",
    "\n",
    "Your function will return two things:\n",
    "1. the name of the soulmate\n",
    "2. the largest cosine similarity\n",
    "\n"
   ]
  },
  {
   "cell_type": "code",
   "execution_count": 1602,
   "metadata": {
    "deletable": false,
    "nbgrader": {
     "cell_type": "code",
     "checksum": "7b700e79dc8a9d2318116b66ec083545",
     "grade": false,
     "grade_id": "cell-2068e9b8870354cd",
     "locked": false,
     "schema_version": 3,
     "solution": true,
     "task": false
    }
   },
   "outputs": [],
   "source": [
    "def Movie_Soul_Mate(name):\n",
    "    \"\"\"Given a name, get the player that has highest Jaccard \n",
    "    similarity with this person.\"\"\"\n",
    "    soulmate = \"\"\n",
    "    cosine_similarity = -100\n",
    "    \n",
    "    #grab the previous function \n",
    "    movies, preference = read_in_movie_preference()\n",
    "    \n",
    "    #if focal person does not exist\n",
    "    if name not in preference: \n",
    "        return soulmate\n",
    "    # find other person with highest cosine similarity to focal person \n",
    "    for person2 in preference.keys():\n",
    "        # make sure that we do not compare the focal person to himself\n",
    "        if person2 != name: \n",
    "            # call the previous function that grabs the cosine similarity \n",
    "            # between the focal person and all other persons \n",
    "            cos_similarity=Similarity(name, person2)\n",
    "            if cos_similarity > cosine_similarity:\n",
    "                soulmate = person2\n",
    "                cosine_similarity = cos_similarity \n",
    "                \n",
    "            # need to check if two people have the same cosine similarity \n",
    "            elif cos_similarity == cosine_similarity:\n",
    "            \n",
    "            # need to pick the person with the shorter name\n",
    "                if len(person2) < len (soulmate):     \n",
    "                    soulmate = person2\n",
    "                    \n",
    "    return soulmate, cosine_similarity"
   ]
  },
  {
   "cell_type": "code",
   "execution_count": 1603,
   "metadata": {
    "deletable": false,
    "editable": false,
    "nbgrader": {
     "cell_type": "code",
     "checksum": "906acbaca192037a8a40b87b2076ef37",
     "grade": true,
     "grade_id": "cell-f2974f996588947e",
     "locked": true,
     "points": 5,
     "schema_version": 3,
     "solution": false,
     "task": false
    }
   },
   "outputs": [],
   "source": [
    "soulmate, cosine_similarity = Movie_Soul_Mate(\"Q\")\n",
    "assert soulmate == 'Yunong Tian'\n",
    "assert round(cosine_similarity, 2) == 0.75"
   ]
  },
  {
   "cell_type": "code",
   "execution_count": 1604,
   "metadata": {
    "deletable": false,
    "editable": false,
    "nbgrader": {
     "cell_type": "code",
     "checksum": "1355ac836203b70aa2f7173bc78eb904",
     "grade": true,
     "grade_id": "cell-9893863e8c2553ac",
     "locked": true,
     "points": 10,
     "schema_version": 3,
     "solution": false,
     "task": false
    }
   },
   "outputs": [],
   "source": [
    "soulmate, cosine_similarity = Movie_Soul_Mate(\"Test Student\")\n",
    "assert soulmate == 'Michael Treiber'\n",
    "assert round(cosine_similarity, 2) == 0.80"
   ]
  },
  {
   "cell_type": "code",
   "execution_count": 1605,
   "metadata": {
    "deletable": false,
    "editable": false,
    "nbgrader": {
     "cell_type": "code",
     "checksum": "6533d6a50d6e95babec9a25ec2e25282",
     "grade": true,
     "grade_id": "cell-c56da8cbe9bf39c0",
     "locked": true,
     "points": 5,
     "schema_version": 3,
     "solution": false,
     "task": false
    }
   },
   "outputs": [],
   "source": [
    "soulmate, cosine_similarity = Movie_Soul_Mate(\"Yunong Tian\")\n",
    "assert soulmate == 'Yuchen'\n",
    "assert round(cosine_similarity, 2) == 0.81"
   ]
  },
  {
   "cell_type": "code",
   "execution_count": 1606,
   "metadata": {},
   "outputs": [],
   "source": [
    "soulmate = Movie_Soul_Mate(\"Test Student 2\")\n",
    "assert soulmate == \"\""
   ]
  },
  {
   "cell_type": "markdown",
   "metadata": {
    "deletable": false,
    "editable": false,
    "nbgrader": {
     "cell_type": "markdown",
     "checksum": "ec5b8a690c2000654e44f15efbf78658",
     "grade": false,
     "grade_id": "cell-2e1cfc52d2fb1e70",
     "locked": true,
     "schema_version": 3,
     "solution": false,
     "task": false
    }
   },
   "source": [
    "## 2.3 Memory-based Collaborative Filtering Recommendation\n",
    "\n",
    "Now after finding a person's movie soulmate, we can construct a (very preliminary) collaborative filtering recommendation. In our recommendation system, for a focal person, we first find his or her soulmate. We then find all the movies that he/she has not watched but the soulmate has watched and liked. Among all of these movies, we recommend the movie with the highest popularity score defined in Section 1.1 and 1.2 \n",
    "\n",
    "\n",
    "Again, \n",
    "\n",
    "if the user name does not exit, this function should return \"Invalid user.\"\n",
    "\n",
    "If the person has watched all the movies, return \"Unfortunately, no new movies for you.\" \n",
    "\n",
    "If there are no movies that are watched and liked by the soulmate but not watched by the focal person, then return the movie (or string) that should be returned in Section 1.2.\n"
   ]
  },
  {
   "cell_type": "code",
   "execution_count": 1607,
   "metadata": {
    "deletable": false,
    "nbgrader": {
     "cell_type": "code",
     "checksum": "dbf734c3fad4d748790f316ba5afd597",
     "grade": false,
     "grade_id": "cell-ce118b691120263d",
     "locked": false,
     "schema_version": 3,
     "solution": true,
     "task": false
    }
   },
   "outputs": [],
   "source": [
    "def Recommendation2(name):\n",
    "    # Read in movie preference data\n",
    "    recommended_movie = \"\"\n",
    "    movies, preference = read_in_movie_preference()\n",
    "    movie_popularity, movie_popularity_rank, total_likes, total_dislikes = movies_popularity_ranking()\n",
    "    highest_popularity_score = -float(\"inf\")\n",
    "    \n",
    "    #if the username does not exist\n",
    "    if name not in preference: \n",
    "        return \"Invalid user.\"\n",
    "    \n",
    "    # Find user's soulmate\n",
    "    soulmate, cosine_similarity = Movie_Soul_Mate(name)\n",
    "    \n",
    "    # Get list of movies that soulmate likes and has watched but focal person has not watched\n",
    "    soulmate_likes = [movies[i] for i in range(len(movies)) if preference[soulmate][i] == 1 and preference[name][i] == 0]\n",
    "    # Check if there are any movies to recommend\n",
    "    if not soulmate_likes:\n",
    "        # Return most popular movie\n",
    "        movie_popularity, movie_popularity_rank, total_likes, total_dislikes = movies_popularity_ranking()\n",
    "        return max(movie_popularity, key=movie_popularity.get)\n",
    "    \n",
    "    \n",
    "    if len(soulmate_likes)==0:\n",
    "        return \"Unfortunately, no new movies for you.\"\n",
    "    # Find movie with highest popularity score\n",
    "    for movie in soulmate_likes:\n",
    "        popularity = movie_popularity.get(movie, 0)\n",
    "        if popularity > highest_popularity_score:\n",
    "                highest_popularity_score = popularity\n",
    "                recommended_movie = movie\n",
    "    \n",
    "    # Return recommended movie\n",
    "    return recommended_movie"
   ]
  },
  {
   "cell_type": "code",
   "execution_count": 1608,
   "metadata": {
    "deletable": false,
    "editable": false,
    "nbgrader": {
     "cell_type": "code",
     "checksum": "a098f9916d40a842fa5ff4abfb166fbb",
     "grade": true,
     "grade_id": "cell-f074ff2b019ff903",
     "locked": true,
     "points": 5,
     "schema_version": 3,
     "solution": false,
     "task": false
    }
   },
   "outputs": [],
   "source": [
    "assert Recommendation2(\"Test Student\") == 'Inception'\n",
    "assert Recommendation2(\"Test Student Long Name\") == 'The Shawshank Redemption'"
   ]
  },
  {
   "cell_type": "code",
   "execution_count": 1609,
   "metadata": {
    "deletable": false,
    "editable": false,
    "nbgrader": {
     "cell_type": "code",
     "checksum": "74eaf68f05c70e052e9d39cf499940c9",
     "grade": true,
     "grade_id": "cell-5f882f529bc62b5f",
     "locked": true,
     "points": 10,
     "schema_version": 3,
     "solution": false,
     "task": false
    }
   },
   "outputs": [],
   "source": [
    "assert Recommendation2(\"Test Student Long Name\") == 'The Shawshank Redemption'"
   ]
  },
  {
   "cell_type": "code",
   "execution_count": 1610,
   "metadata": {},
   "outputs": [],
   "source": [
    "assert Recommendation2(\"Test Student\") == 'Inception'"
   ]
  }
 ],
 "metadata": {
  "kernelspec": {
   "display_name": "Python 3 (ipykernel)",
   "language": "python",
   "name": "python3"
  },
  "language_info": {
   "codemirror_mode": {
    "name": "ipython",
    "version": 3
   },
   "file_extension": ".py",
   "mimetype": "text/x-python",
   "name": "python",
   "nbconvert_exporter": "python",
   "pygments_lexer": "ipython3",
   "version": "3.9.13"
  }
 },
 "nbformat": 4,
 "nbformat_minor": 4
}
